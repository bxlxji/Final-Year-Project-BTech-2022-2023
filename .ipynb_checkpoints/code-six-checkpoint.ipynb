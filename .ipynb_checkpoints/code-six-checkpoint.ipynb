{
 "cells": [
  {
   "cell_type": "code",
   "execution_count": 1,
   "metadata": {},
   "outputs": [
    {
     "name": "stderr",
     "output_type": "stream",
     "text": [
      "2023-05-28 11:21:05.177741: I tensorflow/core/platform/cpu_feature_guard.cc:193] This TensorFlow binary is optimized with oneAPI Deep Neural Network Library (oneDNN) to use the following CPU instructions in performance-critical operations:  AVX2 FMA\n",
      "To enable them in other operations, rebuild TensorFlow with the appropriate compiler flags.\n",
      "2023-05-28 11:21:08.468876: W tensorflow/stream_executor/platform/default/dso_loader.cc:64] Could not load dynamic library 'libcudart.so.11.0'; dlerror: libcudart.so.11.0: cannot open shared object file: No such file or directory; LD_LIBRARY_PATH: /home/ubuntu/.local/lib/python3.10/site-packages/cv2/../../lib64:\n",
      "2023-05-28 11:21:08.468963: I tensorflow/stream_executor/cuda/cudart_stub.cc:29] Ignore above cudart dlerror if you do not have a GPU set up on your machine.\n",
      "2023-05-28 11:21:08.851399: E tensorflow/stream_executor/cuda/cuda_blas.cc:2981] Unable to register cuBLAS factory: Attempting to register factory for plugin cuBLAS when one has already been registered\n",
      "2023-05-28 11:21:29.012519: W tensorflow/stream_executor/platform/default/dso_loader.cc:64] Could not load dynamic library 'libnvinfer.so.7'; dlerror: libnvinfer.so.7: cannot open shared object file: No such file or directory; LD_LIBRARY_PATH: /home/ubuntu/.local/lib/python3.10/site-packages/cv2/../../lib64:\n",
      "2023-05-28 11:21:29.013308: W tensorflow/stream_executor/platform/default/dso_loader.cc:64] Could not load dynamic library 'libnvinfer_plugin.so.7'; dlerror: libnvinfer_plugin.so.7: cannot open shared object file: No such file or directory; LD_LIBRARY_PATH: /home/ubuntu/.local/lib/python3.10/site-packages/cv2/../../lib64:\n",
      "2023-05-28 11:21:29.013383: W tensorflow/compiler/tf2tensorrt/utils/py_utils.cc:38] TF-TRT Warning: Cannot dlopen some TensorRT libraries. If you would like to use Nvidia GPU with TensorRT, please make sure the missing libraries mentioned above are installed properly.\n"
     ]
    }
   ],
   "source": [
    "from sklearn.model_selection import train_test_split\n",
    "import matplotlib.pyplot as plt\n",
    "import numpy as np\n",
    "import cv2\n",
    "import PIL\n",
    "import tensorflow as tf\n",
    "from tensorflow import keras\n",
    "from keras import layers, Sequential\n",
    "import pickle\n",
    "\n",
    "infile = open(\"datasets_pickle/15p_sfter_aug.pickle\", \"rb\")\n",
    "new_dataset = pickle.load(infile)\n",
    "infile.close()\n",
    "\n",
    "X = new_dataset[\"X\"]\n",
    "y = new_dataset[\"y\"]"
   ]
  },
  {
   "cell_type": "code",
   "execution_count": 2,
   "metadata": {},
   "outputs": [
    {
     "data": {
      "text/plain": [
       "(12000, 50, 50, 3)"
      ]
     },
     "execution_count": 2,
     "metadata": {},
     "output_type": "execute_result"
    }
   ],
   "source": [
    "X.shape"
   ]
  },
  {
   "cell_type": "code",
   "execution_count": 3,
   "metadata": {},
   "outputs": [],
   "source": [
    "X_train, X_test, y_train, y_test = train_test_split(X, y, random_state=1, test_size=0.2)\n",
    "\n",
    "X_train_scaled = X_train / 255\n",
    "X_test_scaled = X_test / 255\n",
    "\n",
    "num_classes = 15"
   ]
  },
  {
   "cell_type": "code",
   "execution_count": 4,
   "metadata": {},
   "outputs": [
    {
     "data": {
      "text/plain": [
       "(9600, 50, 50, 3)"
      ]
     },
     "execution_count": 4,
     "metadata": {},
     "output_type": "execute_result"
    }
   ],
   "source": [
    "X_train_scaled.shape"
   ]
  },
  {
   "cell_type": "code",
   "execution_count": 7,
   "metadata": {},
   "outputs": [],
   "source": [
    "model3 = Sequential([\n",
    "    layers.Conv2D(filters=64, kernel_size=(3, 3),\n",
    "                  input_shape=(50, 50, 3), activation='relu'),\n",
    "    layers.MaxPooling2D((2, 2), padding='same'),\n",
    "    layers.Conv2D(filters=128, kernel_size=(3, 3), activation='relu'),\n",
    "    layers.MaxPooling2D((2, 2), padding='same'),\n",
    "    layers.Conv2D(filters=256, kernel_size=(3, 3), activation='relu'),\n",
    "    layers.MaxPooling2D((2, 2), padding='same'),\n",
    "    layers.Flatten(),\n",
    "    layers.Dense(128, activation='relu'),\n",
    "    layers.Dense(64, activation='relu'),\n",
    "    layers.Dense(32, activation='relu'),\n",
    "    layers.Dense(num_classes, activation='softmax')\n",
    "])\n",
    "model3.compile(\n",
    "    optimizer='adam',\n",
    "    loss='sparse_categorical_crossentropy',\n",
    "    metrics=['accuracy']\n",
    ")"
   ]
  },
  {
   "cell_type": "code",
   "execution_count": 8,
   "metadata": {},
   "outputs": [
    {
     "name": "stderr",
     "output_type": "stream",
     "text": [
      "2023-05-28 11:24:21.023376: W tensorflow/core/framework/cpu_allocator_impl.cc:82] Allocation of 288000000 exceeds 10% of free system memory.\n"
     ]
    },
    {
     "name": "stdout",
     "output_type": "stream",
     "text": [
      "Epoch 1/25\n"
     ]
    },
    {
     "name": "stderr",
     "output_type": "stream",
     "text": [
      "2023-05-28 11:24:28.111171: W tensorflow/core/framework/cpu_allocator_impl.cc:82] Allocation of 18874368 exceeds 10% of free system memory.\n",
      "2023-05-28 11:24:29.059470: W tensorflow/core/framework/cpu_allocator_impl.cc:82] Allocation of 21187584 exceeds 10% of free system memory.\n",
      "2023-05-28 11:24:29.060415: W tensorflow/core/framework/cpu_allocator_impl.cc:82] Allocation of 21187584 exceeds 10% of free system memory.\n",
      "2023-05-28 11:24:29.161211: W tensorflow/core/framework/cpu_allocator_impl.cc:82] Allocation of 18874368 exceeds 10% of free system memory.\n"
     ]
    },
    {
     "name": "stdout",
     "output_type": "stream",
     "text": [
      "300/300 [==============================] - 94s 302ms/step - loss: 2.5317 - accuracy: 0.1361\n",
      "Epoch 2/25\n",
      "300/300 [==============================] - 87s 290ms/step - loss: 1.9960 - accuracy: 0.3064\n",
      "Epoch 3/25\n",
      "300/300 [==============================] - 86s 287ms/step - loss: 1.6668 - accuracy: 0.4254\n",
      "Epoch 4/25\n",
      "300/300 [==============================] - 86s 288ms/step - loss: 1.3778 - accuracy: 0.5329\n",
      "Epoch 5/25\n",
      "300/300 [==============================] - 85s 283ms/step - loss: 1.1312 - accuracy: 0.6135\n",
      "Epoch 6/25\n",
      "300/300 [==============================] - 85s 283ms/step - loss: 0.9493 - accuracy: 0.6745\n",
      "Epoch 7/25\n",
      "300/300 [==============================] - 85s 283ms/step - loss: 0.8051 - accuracy: 0.7246\n",
      "Epoch 8/25\n",
      "300/300 [==============================] - 85s 284ms/step - loss: 0.6835 - accuracy: 0.7700\n",
      "Epoch 9/25\n",
      "300/300 [==============================] - 85s 284ms/step - loss: 0.5837 - accuracy: 0.8002\n",
      "Epoch 10/25\n",
      "300/300 [==============================] - 85s 285ms/step - loss: 0.5062 - accuracy: 0.8259\n",
      "Epoch 11/25\n",
      "300/300 [==============================] - 85s 285ms/step - loss: 0.4331 - accuracy: 0.8495\n",
      "Epoch 12/25\n",
      "300/300 [==============================] - 88s 292ms/step - loss: 0.3755 - accuracy: 0.8682\n",
      "Epoch 13/25\n",
      "300/300 [==============================] - 86s 285ms/step - loss: 0.3655 - accuracy: 0.8765\n",
      "Epoch 14/25\n",
      "300/300 [==============================] - 85s 283ms/step - loss: 0.3066 - accuracy: 0.8960\n",
      "Epoch 15/25\n",
      "300/300 [==============================] - 85s 283ms/step - loss: 0.2889 - accuracy: 0.9029\n",
      "Epoch 16/25\n",
      "300/300 [==============================] - 86s 287ms/step - loss: 0.2312 - accuracy: 0.9206\n",
      "Epoch 17/25\n",
      "300/300 [==============================] - 88s 294ms/step - loss: 0.1815 - accuracy: 0.9396\n",
      "Epoch 18/25\n",
      "300/300 [==============================] - 97s 322ms/step - loss: 0.1875 - accuracy: 0.9406\n",
      "Epoch 19/25\n",
      "300/300 [==============================] - 90s 300ms/step - loss: 0.1684 - accuracy: 0.9436\n",
      "Epoch 20/25\n",
      "300/300 [==============================] - 85s 282ms/step - loss: 0.1709 - accuracy: 0.9473\n",
      "Epoch 21/25\n",
      "300/300 [==============================] - 85s 282ms/step - loss: 0.1907 - accuracy: 0.9392\n",
      "Epoch 22/25\n",
      "300/300 [==============================] - 84s 280ms/step - loss: 0.1663 - accuracy: 0.9446\n",
      "Epoch 23/25\n",
      "300/300 [==============================] - 82s 273ms/step - loss: 0.1406 - accuracy: 0.9555\n",
      "Epoch 24/25\n",
      "300/300 [==============================] - 78s 260ms/step - loss: 0.0947 - accuracy: 0.9690\n",
      "Epoch 25/25\n",
      "300/300 [==============================] - 80s 266ms/step - loss: 0.1266 - accuracy: 0.9613\n"
     ]
    },
    {
     "data": {
      "text/plain": [
       "<keras.callbacks.History at 0x7f1206abffd0>"
      ]
     },
     "execution_count": 8,
     "metadata": {},
     "output_type": "execute_result"
    }
   ],
   "source": [
    "model3.fit(X_train_scaled, y_train, epochs=25)"
   ]
  },
  {
   "cell_type": "code",
   "execution_count": 9,
   "metadata": {},
   "outputs": [
    {
     "name": "stdout",
     "output_type": "stream",
     "text": [
      "75/75 [==============================] - 8s 94ms/step - loss: 0.8696 - accuracy: 0.8129\n"
     ]
    },
    {
     "data": {
      "text/plain": [
       "[0.8695746064186096, 0.8129166960716248]"
      ]
     },
     "execution_count": 9,
     "metadata": {},
     "output_type": "execute_result"
    }
   ],
   "source": [
    "model3.evaluate(X_test_scaled, y_test)"
   ]
  },
  {
   "cell_type": "code",
   "execution_count": 10,
   "metadata": {},
   "outputs": [
    {
     "name": "stderr",
     "output_type": "stream",
     "text": [
      "WARNING:absl:Found untraced functions such as _jit_compiled_convolution_op, _jit_compiled_convolution_op, _jit_compiled_convolution_op while saving (showing 3 of 3). These functions will not be directly callable after loading.\n"
     ]
    },
    {
     "name": "stdout",
     "output_type": "stream",
     "text": [
      "INFO:tensorflow:Assets written to: ram://672de8d4-af19-4fef-a0f3-d1190843a214/assets\n"
     ]
    },
    {
     "name": "stderr",
     "output_type": "stream",
     "text": [
      "INFO:tensorflow:Assets written to: ram://672de8d4-af19-4fef-a0f3-d1190843a214/assets\n"
     ]
    }
   ],
   "source": [
    "with open('models/model-kk-15p-ta81_29.pickle','wb') as f:\n",
    "    pickle.dump(model3,f)"
   ]
  }
 ],
 "metadata": {
  "kernelspec": {
   "display_name": "Python 3.10.6 64-bit",
   "language": "python",
   "name": "python3"
  },
  "language_info": {
   "codemirror_mode": {
    "name": "ipython",
    "version": 3
   },
   "file_extension": ".py",
   "mimetype": "text/x-python",
   "name": "python",
   "nbconvert_exporter": "python",
   "pygments_lexer": "ipython3",
   "version": "3.10.6"
  },
  "orig_nbformat": 4,
  "vscode": {
   "interpreter": {
    "hash": "916dbcbb3f70747c44a77c7bcd40155683ae19c65e1c03b4aa3499c5328201f1"
   }
  }
 },
 "nbformat": 4,
 "nbformat_minor": 2
}
