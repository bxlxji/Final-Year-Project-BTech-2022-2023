{
 "cells": [
  {
   "cell_type": "code",
   "execution_count": 1,
   "metadata": {},
   "outputs": [
    {
     "name": "stderr",
     "output_type": "stream",
     "text": [
      "2023-02-21 19:51:02.638324: I tensorflow/core/platform/cpu_feature_guard.cc:193] This TensorFlow binary is optimized with oneAPI Deep Neural Network Library (oneDNN) to use the following CPU instructions in performance-critical operations:  AVX2 FMA\n",
      "To enable them in other operations, rebuild TensorFlow with the appropriate compiler flags.\n",
      "2023-02-21 19:51:05.180577: W tensorflow/stream_executor/platform/default/dso_loader.cc:64] Could not load dynamic library 'libcudart.so.11.0'; dlerror: libcudart.so.11.0: cannot open shared object file: No such file or directory; LD_LIBRARY_PATH: /home/ubuntu/.local/lib/python3.10/site-packages/cv2/../../lib64:\n",
      "2023-02-21 19:51:05.180651: I tensorflow/stream_executor/cuda/cudart_stub.cc:29] Ignore above cudart dlerror if you do not have a GPU set up on your machine.\n",
      "2023-02-21 19:51:05.440515: E tensorflow/stream_executor/cuda/cuda_blas.cc:2981] Unable to register cuBLAS factory: Attempting to register factory for plugin cuBLAS when one has already been registered\n",
      "2023-02-21 19:51:25.539789: W tensorflow/stream_executor/platform/default/dso_loader.cc:64] Could not load dynamic library 'libnvinfer.so.7'; dlerror: libnvinfer.so.7: cannot open shared object file: No such file or directory; LD_LIBRARY_PATH: /home/ubuntu/.local/lib/python3.10/site-packages/cv2/../../lib64:\n",
      "2023-02-21 19:51:25.548169: W tensorflow/stream_executor/platform/default/dso_loader.cc:64] Could not load dynamic library 'libnvinfer_plugin.so.7'; dlerror: libnvinfer_plugin.so.7: cannot open shared object file: No such file or directory; LD_LIBRARY_PATH: /home/ubuntu/.local/lib/python3.10/site-packages/cv2/../../lib64:\n",
      "2023-02-21 19:51:25.548257: W tensorflow/compiler/tf2tensorrt/utils/py_utils.cc:38] TF-TRT Warning: Cannot dlopen some TensorRT libraries. If you would like to use Nvidia GPU with TensorRT, please make sure the missing libraries mentioned above are installed properly.\n"
     ]
    }
   ],
   "source": [
    "import matplotlib.pyplot as plt\n",
    "import numpy as np\n",
    "import cv2\n",
    "import PIL\n",
    "import tensorflow as tf\n",
    "from tensorflow import keras\n",
    "from keras import layers, Sequential\n",
    "import pickle"
   ]
  },
  {
   "cell_type": "code",
   "execution_count": 2,
   "metadata": {},
   "outputs": [],
   "source": [
    "infile = open(\"datasets_pickle/after-data-aug.pickle\",\"rb\")\n",
    "new_dataset = pickle.load(infile)\n",
    "infile.close()"
   ]
  },
  {
   "cell_type": "code",
   "execution_count": 4,
   "metadata": {},
   "outputs": [],
   "source": [
    "X = new_dataset[\"X\"]\n",
    "y = new_dataset[\"y\"]"
   ]
  },
  {
   "cell_type": "code",
   "execution_count": 5,
   "metadata": {},
   "outputs": [
    {
     "data": {
      "text/plain": [
       "((420, 100, 100, 3), (420,))"
      ]
     },
     "execution_count": 5,
     "metadata": {},
     "output_type": "execute_result"
    }
   ],
   "source": [
    "X.shape, y.shape"
   ]
  },
  {
   "cell_type": "code",
   "execution_count": 6,
   "metadata": {},
   "outputs": [],
   "source": [
    "from sklearn.model_selection import train_test_split\n",
    "X_train, X_test, y_train, y_test = train_test_split(X,y, random_state=0)\n",
    "\n",
    "X_train_scaled = X_train / 255\n",
    "X_test_scaled = X_test / 255"
   ]
  },
  {
   "cell_type": "code",
   "execution_count": 12,
   "metadata": {},
   "outputs": [],
   "source": [
    "num_classes = 5\n",
    "#\n",
    "model = Sequential([\n",
    "    layers.Conv2D(filters=32,kernel_size=(3,3),input_shape=(100,100,3),activation='relu'),\n",
    "    layers.MaxPooling2D((2,2),padding='same'),\n",
    "    layers.Conv2D(filters=64,kernel_size=(3,3),activation='relu'),\n",
    "    layers.MaxPooling2D((2,2),padding='same'),\n",
    "    layers.Flatten(),\n",
    "    layers.Dense(64,activation='relu'),\n",
    "    layers.Dense(32,activation='relu'),\n",
    "    layers.Dense(num_classes,activation='softmax')\n",
    "])\n",
    "model.compile(\n",
    "    optimizer='adam',\n",
    "    loss='sparse_categorical_crossentropy',\n",
    "    metrics=['accuracy']\n",
    ")"
   ]
  },
  {
   "cell_type": "code",
   "execution_count": 14,
   "metadata": {},
   "outputs": [
    {
     "name": "stdout",
     "output_type": "stream",
     "text": [
      "Epoch 1/20\n",
      "10/10 [==============================] - 5s 467ms/step - loss: 1.0551 - accuracy: 0.6222\n",
      "Epoch 2/20\n",
      "10/10 [==============================] - 5s 445ms/step - loss: 0.8373 - accuracy: 0.7333\n",
      "Epoch 3/20\n",
      "10/10 [==============================] - 5s 453ms/step - loss: 0.6741 - accuracy: 0.7587\n",
      "Epoch 4/20\n",
      "10/10 [==============================] - 5s 452ms/step - loss: 0.4919 - accuracy: 0.8635\n",
      "Epoch 5/20\n",
      "10/10 [==============================] - 4s 443ms/step - loss: 0.4312 - accuracy: 0.8413\n",
      "Epoch 6/20\n",
      "10/10 [==============================] - 4s 445ms/step - loss: 0.3038 - accuracy: 0.9238\n",
      "Epoch 7/20\n",
      "10/10 [==============================] - 5s 476ms/step - loss: 0.2572 - accuracy: 0.9238\n",
      "Epoch 8/20\n",
      "10/10 [==============================] - 6s 520ms/step - loss: 0.1712 - accuracy: 0.9587\n",
      "Epoch 9/20\n",
      "10/10 [==============================] - 5s 455ms/step - loss: 0.1240 - accuracy: 0.9778\n",
      "Epoch 10/20\n",
      "10/10 [==============================] - 5s 455ms/step - loss: 0.0869 - accuracy: 0.9873\n",
      "Epoch 11/20\n",
      "10/10 [==============================] - 5s 463ms/step - loss: 0.1011 - accuracy: 0.9714\n",
      "Epoch 12/20\n",
      "10/10 [==============================] - 5s 473ms/step - loss: 0.0867 - accuracy: 0.9810\n",
      "Epoch 13/20\n",
      "10/10 [==============================] - 5s 450ms/step - loss: 0.0518 - accuracy: 0.9937\n",
      "Epoch 14/20\n",
      "10/10 [==============================] - 4s 442ms/step - loss: 0.0339 - accuracy: 1.0000\n",
      "Epoch 15/20\n",
      "10/10 [==============================] - 5s 439ms/step - loss: 0.0271 - accuracy: 1.0000\n",
      "Epoch 16/20\n",
      "10/10 [==============================] - 4s 439ms/step - loss: 0.0203 - accuracy: 1.0000\n",
      "Epoch 17/20\n",
      "10/10 [==============================] - 4s 437ms/step - loss: 0.0134 - accuracy: 1.0000\n",
      "Epoch 18/20\n",
      "10/10 [==============================] - 4s 442ms/step - loss: 0.0101 - accuracy: 1.0000\n",
      "Epoch 19/20\n",
      "10/10 [==============================] - 4s 436ms/step - loss: 0.0083 - accuracy: 1.0000\n",
      "Epoch 20/20\n",
      "10/10 [==============================] - 4s 445ms/step - loss: 0.0074 - accuracy: 1.0000\n"
     ]
    },
    {
     "data": {
      "text/plain": [
       "<keras.callbacks.History at 0x7ff11c1e9a80>"
      ]
     },
     "execution_count": 14,
     "metadata": {},
     "output_type": "execute_result"
    }
   ],
   "source": [
    "model.fit(X_train_scaled,y_train,epochs=20)"
   ]
  },
  {
   "cell_type": "code",
   "execution_count": 15,
   "metadata": {},
   "outputs": [
    {
     "name": "stdout",
     "output_type": "stream",
     "text": [
      "4/4 [==============================] - 1s 144ms/step - loss: 0.8005 - accuracy: 0.7429\n"
     ]
    },
    {
     "data": {
      "text/plain": [
       "[0.8004807829856873, 0.7428571581840515]"
      ]
     },
     "execution_count": 15,
     "metadata": {},
     "output_type": "execute_result"
    }
   ],
   "source": [
    "model.evaluate(X_test_scaled,y_test)"
   ]
  },
  {
   "cell_type": "code",
   "execution_count": 18,
   "metadata": {},
   "outputs": [],
   "source": [
    "model2 = Sequential([\n",
    "    layers.Conv2D(filters=16,kernel_size=(3,3),input_shape=(100,100,3),activation='relu'),\n",
    "    layers.MaxPooling2D((2,2),padding='same'),\n",
    "    layers.Conv2D(filters=32,kernel_size=(3,3),input_shape=(100,100,3),activation='relu'),\n",
    "    layers.MaxPooling2D((2,2),padding='same'),\n",
    "    layers.Conv2D(filters=64,kernel_size=(3,3),input_shape=(100,100,3),activation='relu'),\n",
    "    layers.MaxPooling2D((2,2),padding='same'),\n",
    "    layers.Conv2D(filters=128,kernel_size=(3,3),activation='relu'),\n",
    "    layers.MaxPooling2D((2,2),padding='same'),\n",
    "    layers.Flatten(),\n",
    "    layers.Dense(64,activation='relu'),\n",
    "    layers.Dense(32,activation='relu'),\n",
    "    layers.Dense(num_classes,activation='softmax')\n",
    "])\n",
    "model2.compile(\n",
    "    optimizer='adam',\n",
    "    loss='sparse_categorical_crossentropy',\n",
    "    metrics=['accuracy']\n",
    ")"
   ]
  },
  {
   "cell_type": "code",
   "execution_count": 20,
   "metadata": {},
   "outputs": [
    {
     "name": "stdout",
     "output_type": "stream",
     "text": [
      "Epoch 1/20\n",
      "10/10 [==============================] - 3s 312ms/step - loss: 0.6693 - accuracy: 0.7429\n",
      "Epoch 2/20\n",
      "10/10 [==============================] - 3s 272ms/step - loss: 0.4974 - accuracy: 0.7968\n",
      "Epoch 3/20\n",
      "10/10 [==============================] - 3s 272ms/step - loss: 0.4055 - accuracy: 0.8571\n",
      "Epoch 4/20\n",
      "10/10 [==============================] - 3s 256ms/step - loss: 0.5462 - accuracy: 0.7937\n",
      "Epoch 5/20\n",
      "10/10 [==============================] - 3s 253ms/step - loss: 0.3951 - accuracy: 0.8794\n",
      "Epoch 6/20\n",
      "10/10 [==============================] - 3s 262ms/step - loss: 0.2856 - accuracy: 0.9111\n",
      "Epoch 7/20\n",
      "10/10 [==============================] - 3s 267ms/step - loss: 0.3085 - accuracy: 0.8952\n",
      "Epoch 8/20\n",
      "10/10 [==============================] - 3s 258ms/step - loss: 0.1926 - accuracy: 0.9333\n",
      "Epoch 9/20\n",
      "10/10 [==============================] - 3s 256ms/step - loss: 0.1445 - accuracy: 0.9651\n",
      "Epoch 10/20\n",
      "10/10 [==============================] - 3s 248ms/step - loss: 0.1309 - accuracy: 0.9619\n",
      "Epoch 11/20\n",
      "10/10 [==============================] - 3s 252ms/step - loss: 0.0884 - accuracy: 0.9683\n",
      "Epoch 12/20\n",
      "10/10 [==============================] - 3s 264ms/step - loss: 0.0671 - accuracy: 0.9873\n",
      "Epoch 13/20\n",
      "10/10 [==============================] - 3s 261ms/step - loss: 0.1208 - accuracy: 0.9619\n",
      "Epoch 14/20\n",
      "10/10 [==============================] - 3s 287ms/step - loss: 0.1041 - accuracy: 0.9587\n",
      "Epoch 15/20\n",
      "10/10 [==============================] - 3s 257ms/step - loss: 0.1120 - accuracy: 0.9619\n",
      "Epoch 16/20\n",
      "10/10 [==============================] - 3s 295ms/step - loss: 0.0707 - accuracy: 0.9810\n",
      "Epoch 17/20\n",
      "10/10 [==============================] - 3s 300ms/step - loss: 0.0814 - accuracy: 0.9714\n",
      "Epoch 18/20\n",
      "10/10 [==============================] - 3s 298ms/step - loss: 0.0402 - accuracy: 0.9873\n",
      "Epoch 19/20\n",
      "10/10 [==============================] - 3s 273ms/step - loss: 0.0256 - accuracy: 1.0000\n",
      "Epoch 20/20\n",
      "10/10 [==============================] - 3s 268ms/step - loss: 0.0180 - accuracy: 0.9968\n"
     ]
    },
    {
     "data": {
      "text/plain": [
       "<keras.callbacks.History at 0x7ff0c5b0fe20>"
      ]
     },
     "execution_count": 20,
     "metadata": {},
     "output_type": "execute_result"
    }
   ],
   "source": [
    "model2.fit(X_train_scaled,y_train,epochs=20)"
   ]
  },
  {
   "cell_type": "code",
   "execution_count": 32,
   "metadata": {},
   "outputs": [
    {
     "name": "stdout",
     "output_type": "stream",
     "text": [
      "4/4 [==============================] - 0s 79ms/step - loss: 0.8791 - accuracy: 0.8571\n"
     ]
    },
    {
     "data": {
      "text/plain": [
       "[0.8791394233703613, 0.8571428656578064]"
      ]
     },
     "execution_count": 32,
     "metadata": {},
     "output_type": "execute_result"
    }
   ],
   "source": [
    "model2.evaluate(X_test_scaled,y_test)"
   ]
  },
  {
   "cell_type": "code",
   "execution_count": 33,
   "metadata": {},
   "outputs": [
    {
     "name": "stderr",
     "output_type": "stream",
     "text": [
      "WARNING:absl:Found untraced functions such as _jit_compiled_convolution_op, _jit_compiled_convolution_op, _jit_compiled_convolution_op, _jit_compiled_convolution_op while saving (showing 4 of 4). These functions will not be directly callable after loading.\n"
     ]
    },
    {
     "name": "stdout",
     "output_type": "stream",
     "text": [
      "INFO:tensorflow:Assets written to: ram://f45ea19a-b9ba-4eb0-ac12-acdf0306b185/assets\n"
     ]
    },
    {
     "name": "stderr",
     "output_type": "stream",
     "text": [
      "INFO:tensorflow:Assets written to: ram://f45ea19a-b9ba-4eb0-ac12-acdf0306b185/assets\n"
     ]
    }
   ],
   "source": [
    "with open('models/model-kk-ta85_71.pickle','wb') as f:\n",
    "    pickle.dump(model2,f)"
   ]
  },
  {
   "cell_type": "code",
   "execution_count": 24,
   "metadata": {},
   "outputs": [],
   "source": [
    "model3 = Sequential([\n",
    "    layers.Conv2D(filters=16,kernel_size=(3,3),input_shape=(100,100,3),activation='relu'),\n",
    "    layers.MaxPooling2D((2,2),padding='same'),\n",
    "    layers.Conv2D(filters=32,kernel_size=(3,3),input_shape=(100,100,3),activation='relu'),\n",
    "    layers.MaxPooling2D((2,2),padding='same'),\n",
    "    layers.Conv2D(filters=64,kernel_size=(3,3),input_shape=(100,100,3),activation='relu'),\n",
    "    layers.MaxPooling2D((2,2),padding='same'),\n",
    "    layers.Conv2D(filters=128,kernel_size=(3,3),activation='relu'),\n",
    "    layers.MaxPooling2D((2,2),padding='same'),\n",
    "    layers.Conv2D(filters=256,kernel_size=(3,3),activation='relu'),\n",
    "    layers.MaxPooling2D((2,2),padding='same'),\n",
    "    layers.Flatten(),\n",
    "    layers.Dense(64,activation='relu'),\n",
    "    layers.Dense(32,activation='relu'),\n",
    "    layers.Dense(num_classes,activation='softmax')\n",
    "])\n",
    "model3.compile(\n",
    "    optimizer='adam',\n",
    "    loss='sparse_categorical_crossentropy',\n",
    "    metrics=['accuracy']\n",
    ")"
   ]
  },
  {
   "cell_type": "code",
   "execution_count": 28,
   "metadata": {},
   "outputs": [
    {
     "name": "stdout",
     "output_type": "stream",
     "text": [
      "Epoch 1/20\n",
      "10/10 [==============================] - 5s 314ms/step - loss: 1.6145 - accuracy: 0.2127\n",
      "Epoch 2/20\n",
      "10/10 [==============================] - 3s 289ms/step - loss: 1.6050 - accuracy: 0.2444\n",
      "Epoch 3/20\n",
      "10/10 [==============================] - 3s 293ms/step - loss: 1.5744 - accuracy: 0.3238\n",
      "Epoch 4/20\n",
      "10/10 [==============================] - 3s 283ms/step - loss: 1.4886 - accuracy: 0.3365\n",
      "Epoch 5/20\n",
      "10/10 [==============================] - 3s 293ms/step - loss: 1.3895 - accuracy: 0.4032\n",
      "Epoch 6/20\n",
      "10/10 [==============================] - 3s 294ms/step - loss: 1.3585 - accuracy: 0.4286\n",
      "Epoch 7/20\n",
      "10/10 [==============================] - 3s 274ms/step - loss: 1.3438 - accuracy: 0.3968\n",
      "Epoch 8/20\n",
      "10/10 [==============================] - 3s 329ms/step - loss: 1.1667 - accuracy: 0.5016\n",
      "Epoch 9/20\n",
      "10/10 [==============================] - 4s 399ms/step - loss: 1.1582 - accuracy: 0.4984\n",
      "Epoch 10/20\n",
      "10/10 [==============================] - 3s 294ms/step - loss: 1.1639 - accuracy: 0.5175\n",
      "Epoch 11/20\n",
      "10/10 [==============================] - 3s 280ms/step - loss: 0.9715 - accuracy: 0.6286\n",
      "Epoch 12/20\n",
      "10/10 [==============================] - 3s 288ms/step - loss: 0.9012 - accuracy: 0.5778\n",
      "Epoch 13/20\n",
      "10/10 [==============================] - 3s 278ms/step - loss: 0.9188 - accuracy: 0.6286\n",
      "Epoch 14/20\n",
      "10/10 [==============================] - 3s 281ms/step - loss: 0.8400 - accuracy: 0.6222\n",
      "Epoch 15/20\n",
      "10/10 [==============================] - 3s 281ms/step - loss: 0.7235 - accuracy: 0.7079\n",
      "Epoch 16/20\n",
      "10/10 [==============================] - 3s 277ms/step - loss: 0.6634 - accuracy: 0.7333\n",
      "Epoch 17/20\n",
      "10/10 [==============================] - 3s 282ms/step - loss: 0.6952 - accuracy: 0.6984\n",
      "Epoch 18/20\n",
      "10/10 [==============================] - 3s 285ms/step - loss: 0.5885 - accuracy: 0.7556\n",
      "Epoch 19/20\n",
      "10/10 [==============================] - 3s 276ms/step - loss: 0.3950 - accuracy: 0.8635\n",
      "Epoch 20/20\n",
      "10/10 [==============================] - 3s 307ms/step - loss: 0.4017 - accuracy: 0.8571\n"
     ]
    },
    {
     "data": {
      "text/plain": [
       "<keras.callbacks.History at 0x7ff106ec1de0>"
      ]
     },
     "execution_count": 28,
     "metadata": {},
     "output_type": "execute_result"
    }
   ],
   "source": [
    "model3.fit(X_train_scaled,y_train,epochs=20)"
   ]
  },
  {
   "cell_type": "code",
   "execution_count": 30,
   "metadata": {},
   "outputs": [
    {
     "name": "stdout",
     "output_type": "stream",
     "text": [
      "4/4 [==============================] - 0s 85ms/step - loss: 0.9168 - accuracy: 0.6667\n"
     ]
    },
    {
     "data": {
      "text/plain": [
       "[0.9168103933334351, 0.6666666865348816]"
      ]
     },
     "execution_count": 30,
     "metadata": {},
     "output_type": "execute_result"
    }
   ],
   "source": [
    "model3.evaluate(X_test_scaled,y_test)"
   ]
  },
  {
   "cell_type": "code",
   "execution_count": 31,
   "metadata": {},
   "outputs": [
    {
     "name": "stdout",
     "output_type": "stream",
     "text": [
      "10/10 [==============================] - 1s 93ms/step - loss: 0.3665 - accuracy: 0.8635\n"
     ]
    },
    {
     "data": {
      "text/plain": [
       "[0.3664987087249756, 0.8634920716285706]"
      ]
     },
     "execution_count": 31,
     "metadata": {},
     "output_type": "execute_result"
    }
   ],
   "source": [
    "model3.evaluate(X_train_scaled,y_train)"
   ]
  }
 ],
 "metadata": {
  "kernelspec": {
   "display_name": "Python 3.10.6 64-bit",
   "language": "python",
   "name": "python3"
  },
  "language_info": {
   "codemirror_mode": {
    "name": "ipython",
    "version": 3
   },
   "file_extension": ".py",
   "mimetype": "text/x-python",
   "name": "python",
   "nbconvert_exporter": "python",
   "pygments_lexer": "ipython3",
   "version": "3.10.6"
  },
  "orig_nbformat": 4,
  "vscode": {
   "interpreter": {
    "hash": "916dbcbb3f70747c44a77c7bcd40155683ae19c65e1c03b4aa3499c5328201f1"
   }
  }
 },
 "nbformat": 4,
 "nbformat_minor": 2
}
