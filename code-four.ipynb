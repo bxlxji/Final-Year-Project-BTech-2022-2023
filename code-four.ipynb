{
 "cells": [
  {
   "cell_type": "code",
   "execution_count": 1,
   "metadata": {},
   "outputs": [
    {
     "name": "stderr",
     "output_type": "stream",
     "text": [
      "2023-04-29 13:29:52.987013: I tensorflow/core/platform/cpu_feature_guard.cc:193] This TensorFlow binary is optimized with oneAPI Deep Neural Network Library (oneDNN) to use the following CPU instructions in performance-critical operations:  AVX2 FMA\n",
      "To enable them in other operations, rebuild TensorFlow with the appropriate compiler flags.\n",
      "2023-04-29 13:29:57.309286: W tensorflow/stream_executor/platform/default/dso_loader.cc:64] Could not load dynamic library 'libcudart.so.11.0'; dlerror: libcudart.so.11.0: cannot open shared object file: No such file or directory; LD_LIBRARY_PATH: /home/ubuntu/.local/lib/python3.10/site-packages/cv2/../../lib64:\n",
      "2023-04-29 13:29:57.309360: I tensorflow/stream_executor/cuda/cudart_stub.cc:29] Ignore above cudart dlerror if you do not have a GPU set up on your machine.\n",
      "2023-04-29 13:29:57.712011: E tensorflow/stream_executor/cuda/cuda_blas.cc:2981] Unable to register cuBLAS factory: Attempting to register factory for plugin cuBLAS when one has already been registered\n",
      "2023-04-29 13:30:17.191419: W tensorflow/stream_executor/platform/default/dso_loader.cc:64] Could not load dynamic library 'libnvinfer.so.7'; dlerror: libnvinfer.so.7: cannot open shared object file: No such file or directory; LD_LIBRARY_PATH: /home/ubuntu/.local/lib/python3.10/site-packages/cv2/../../lib64:\n",
      "2023-04-29 13:30:17.192140: W tensorflow/stream_executor/platform/default/dso_loader.cc:64] Could not load dynamic library 'libnvinfer_plugin.so.7'; dlerror: libnvinfer_plugin.so.7: cannot open shared object file: No such file or directory; LD_LIBRARY_PATH: /home/ubuntu/.local/lib/python3.10/site-packages/cv2/../../lib64:\n",
      "2023-04-29 13:30:17.192211: W tensorflow/compiler/tf2tensorrt/utils/py_utils.cc:38] TF-TRT Warning: Cannot dlopen some TensorRT libraries. If you would like to use Nvidia GPU with TensorRT, please make sure the missing libraries mentioned above are installed properly.\n"
     ]
    }
   ],
   "source": [
    "import matplotlib.pyplot as plt\n",
    "import numpy as np\n",
    "import cv2\n",
    "import PIL\n",
    "import tensorflow as tf\n",
    "from tensorflow import keras\n",
    "from keras import layers, Sequential\n",
    "import pickle"
   ]
  },
  {
   "cell_type": "code",
   "execution_count": 2,
   "metadata": {},
   "outputs": [],
   "source": [
    "infile = open(\"datasets_pickle/10p_after-data-aug.pickle\",\"rb\")\n",
    "new_dataset = pickle.load(infile)\n",
    "infile.close()\n",
    "\n",
    "X = new_dataset[\"X\"]\n",
    "y = new_dataset[\"y\"]"
   ]
  },
  {
   "cell_type": "code",
   "execution_count": 3,
   "metadata": {},
   "outputs": [
    {
     "name": "stderr",
     "output_type": "stream",
     "text": [
      "2023-04-29 13:31:00.609610: W tensorflow/stream_executor/platform/default/dso_loader.cc:64] Could not load dynamic library 'libcuda.so.1'; dlerror: libcuda.so.1: cannot open shared object file: No such file or directory; LD_LIBRARY_PATH: /home/ubuntu/.local/lib/python3.10/site-packages/cv2/../../lib64:\n",
      "2023-04-29 13:31:00.615487: W tensorflow/stream_executor/cuda/cuda_driver.cc:263] failed call to cuInit: UNKNOWN ERROR (303)\n",
      "2023-04-29 13:31:00.616393: I tensorflow/stream_executor/cuda/cuda_diagnostics.cc:156] kernel driver does not appear to be running on this host (karthikeya): /proc/driver/nvidia/version does not exist\n",
      "2023-04-29 13:31:00.636728: I tensorflow/core/platform/cpu_feature_guard.cc:193] This TensorFlow binary is optimized with oneAPI Deep Neural Network Library (oneDNN) to use the following CPU instructions in performance-critical operations:  AVX2 FMA\n",
      "To enable them in other operations, rebuild TensorFlow with the appropriate compiler flags.\n"
     ]
    },
    {
     "name": "stdout",
     "output_type": "stream",
     "text": [
      "WARNING:tensorflow:Using a while_loop for converting RngReadAndSkip cause there is no registered converter for this op.\n",
      "WARNING:tensorflow:Using a while_loop for converting Bitcast cause there is no registered converter for this op.\n",
      "WARNING:tensorflow:Using a while_loop for converting Bitcast cause there is no registered converter for this op.\n",
      "WARNING:tensorflow:Using a while_loop for converting StatelessRandomUniformV2 cause there is no registered converter for this op.\n",
      "WARNING:tensorflow:Using a while_loop for converting ImageProjectiveTransformV3 cause there is no registered converter for this op.\n",
      "WARNING:tensorflow:Using a while_loop for converting RngReadAndSkip cause there is no registered converter for this op.\n",
      "WARNING:tensorflow:Using a while_loop for converting Bitcast cause there is no registered converter for this op.\n",
      "WARNING:tensorflow:Using a while_loop for converting Bitcast cause there is no registered converter for this op.\n",
      "WARNING:tensorflow:Using a while_loop for converting StatelessRandomUniformV2 cause there is no registered converter for this op.\n",
      "WARNING:tensorflow:Using a while_loop for converting ImageProjectiveTransformV3 cause there is no registered converter for this op.\n"
     ]
    },
    {
     "name": "stderr",
     "output_type": "stream",
     "text": [
      "2023-04-29 13:31:06.080668: W tensorflow/core/framework/cpu_allocator_impl.cc:82] Allocation of 100800000 exceeds 10% of free system memory.\n"
     ]
    },
    {
     "name": "stdout",
     "output_type": "stream",
     "text": [
      "WARNING:tensorflow:Using a while_loop for converting RngReadAndSkip cause there is no registered converter for this op.\n",
      "WARNING:tensorflow:Using a while_loop for converting Bitcast cause there is no registered converter for this op.\n",
      "WARNING:tensorflow:Using a while_loop for converting Bitcast cause there is no registered converter for this op.\n",
      "WARNING:tensorflow:Using a while_loop for converting StatelessRandomUniformV2 cause there is no registered converter for this op.\n",
      "WARNING:tensorflow:Using a while_loop for converting ImageProjectiveTransformV3 cause there is no registered converter for this op.\n"
     ]
    },
    {
     "name": "stderr",
     "output_type": "stream",
     "text": [
      "2023-04-29 13:31:10.495247: W tensorflow/core/framework/cpu_allocator_impl.cc:82] Allocation of 100800000 exceeds 10% of free system memory.\n"
     ]
    },
    {
     "name": "stdout",
     "output_type": "stream",
     "text": [
      "WARNING:tensorflow:Using a while_loop for converting RngReadAndSkip cause there is no registered converter for this op.\n",
      "WARNING:tensorflow:Using a while_loop for converting Bitcast cause there is no registered converter for this op.\n",
      "WARNING:tensorflow:Using a while_loop for converting Bitcast cause there is no registered converter for this op.\n",
      "WARNING:tensorflow:Using a while_loop for converting StatelessRandomUniformV2 cause there is no registered converter for this op.\n",
      "WARNING:tensorflow:Using a while_loop for converting ImageProjectiveTransformV3 cause there is no registered converter for this op.\n"
     ]
    },
    {
     "name": "stderr",
     "output_type": "stream",
     "text": [
      "2023-04-29 13:31:14.967933: W tensorflow/core/framework/cpu_allocator_impl.cc:82] Allocation of 100800000 exceeds 10% of free system memory.\n",
      "2023-04-29 13:31:17.961748: W tensorflow/core/framework/cpu_allocator_impl.cc:82] Allocation of 100800000 exceeds 10% of free system memory.\n"
     ]
    }
   ],
   "source": [
    "dataaug2 = Sequential([\n",
    "    keras.layers.RandomZoom(0.3, input_shape=(100,100,3)),\n",
    "    keras.layers.RandomRotation(0.1),\n",
    "    keras.layers.RandomFlip(\"horizontal\")\n",
    "])\n",
    "X1 = dataaug2(X).numpy().astype(\"uint8\")\n",
    "X = np.concatenate((X,X1))\n",
    "y = np.concatenate((y,y))"
   ]
  },
  {
   "cell_type": "code",
   "execution_count": 19,
   "metadata": {},
   "outputs": [],
   "source": [
    "dataset_vkr_10p = {\n",
    "    \"X\": X,\n",
    "    \"y\": y\n",
    "}\n",
    "with open('datasets_pickle/10p_3000.pickle','wb') as f:\n",
    "    pickle.dump(dataset_vkr_10p,f)"
   ]
  },
  {
   "cell_type": "code",
   "execution_count": 20,
   "metadata": {},
   "outputs": [
    {
     "data": {
      "text/plain": [
       "(3360, 100, 100, 3)"
      ]
     },
     "execution_count": 20,
     "metadata": {},
     "output_type": "execute_result"
    }
   ],
   "source": [
    "X.shape"
   ]
  },
  {
   "cell_type": "code",
   "execution_count": 4,
   "metadata": {},
   "outputs": [],
   "source": [
    "from sklearn.model_selection import train_test_split\n",
    "X_train, X_test, y_train, y_test = train_test_split(X,y, random_state=1)\n",
    "\n",
    "X_train_scaled = X_train / 255\n",
    "X_test_scaled = X_test / 255"
   ]
  },
  {
   "cell_type": "code",
   "execution_count": 7,
   "metadata": {},
   "outputs": [],
   "source": [
    "num_classes = 10\n",
    "#\n",
    "model = Sequential([\n",
    "    layers.Conv2D(filters=32,kernel_size=(3,3),input_shape=(100,100,3),activation='relu'),\n",
    "    layers.MaxPooling2D((2,2),padding='same'),\n",
    "    layers.Conv2D(filters=64,kernel_size=(3,3),activation='relu'),\n",
    "    layers.MaxPooling2D((2,2),padding='same'),\n",
    "    layers.Flatten(),\n",
    "    layers.Dense(64,activation='relu'),\n",
    "    layers.Dense(32,activation='relu'),\n",
    "    layers.Dense(num_classes,activation='softmax')\n",
    "])\n",
    "model.compile(\n",
    "    optimizer='adam',\n",
    "    loss='sparse_categorical_crossentropy',\n",
    "    metrics=['accuracy']\n",
    ")"
   ]
  },
  {
   "cell_type": "code",
   "execution_count": 5,
   "metadata": {},
   "outputs": [
    {
     "name": "stderr",
     "output_type": "stream",
     "text": [
      "2023-03-01 21:20:45.237909: W tensorflow/core/framework/cpu_allocator_impl.cc:82] Allocation of 75600000 exceeds 10% of free system memory.\n"
     ]
    },
    {
     "name": "stdout",
     "output_type": "stream",
     "text": [
      "Epoch 1/20\n"
     ]
    },
    {
     "name": "stderr",
     "output_type": "stream",
     "text": [
      "2023-03-01 21:20:48.689442: W tensorflow/core/framework/cpu_allocator_impl.cc:82] Allocation of 39337984 exceeds 10% of free system memory.\n",
      "2023-03-01 21:20:49.120411: W tensorflow/core/framework/cpu_allocator_impl.cc:82] Allocation of 18096128 exceeds 10% of free system memory.\n",
      "2023-03-01 21:20:49.869889: W tensorflow/core/framework/cpu_allocator_impl.cc:82] Allocation of 18096128 exceeds 10% of free system memory.\n",
      "2023-03-01 21:20:49.990946: W tensorflow/core/framework/cpu_allocator_impl.cc:82] Allocation of 25447680 exceeds 10% of free system memory.\n"
     ]
    },
    {
     "name": "stdout",
     "output_type": "stream",
     "text": [
      "20/20 [==============================] - 16s 600ms/step - loss: 2.3884 - accuracy: 0.1317\n",
      "Epoch 2/20\n",
      "20/20 [==============================] - 9s 440ms/step - loss: 2.2637 - accuracy: 0.1254\n",
      "Epoch 3/20\n",
      "20/20 [==============================] - 9s 450ms/step - loss: 2.1764 - accuracy: 0.1778\n",
      "Epoch 4/20\n",
      "20/20 [==============================] - 9s 442ms/step - loss: 2.0090 - accuracy: 0.2746\n",
      "Epoch 5/20\n",
      "20/20 [==============================] - 9s 437ms/step - loss: 1.8314 - accuracy: 0.3397\n",
      "Epoch 6/20\n",
      "20/20 [==============================] - 9s 452ms/step - loss: 1.5359 - accuracy: 0.4540\n",
      "Epoch 7/20\n",
      "20/20 [==============================] - 10s 473ms/step - loss: 1.2874 - accuracy: 0.5460\n",
      "Epoch 8/20\n",
      "20/20 [==============================] - 9s 437ms/step - loss: 1.0311 - accuracy: 0.6571\n",
      "Epoch 9/20\n",
      "20/20 [==============================] - 10s 513ms/step - loss: 0.8194 - accuracy: 0.7413\n",
      "Epoch 10/20\n",
      "20/20 [==============================] - 9s 460ms/step - loss: 0.6174 - accuracy: 0.8270\n",
      "Epoch 11/20\n",
      "20/20 [==============================] - 10s 479ms/step - loss: 0.4603 - accuracy: 0.8683\n",
      "Epoch 12/20\n",
      "20/20 [==============================] - 9s 472ms/step - loss: 0.3467 - accuracy: 0.9063\n",
      "Epoch 13/20\n",
      "20/20 [==============================] - 12s 607ms/step - loss: 0.2048 - accuracy: 0.9556\n",
      "Epoch 14/20\n",
      "20/20 [==============================] - 12s 583ms/step - loss: 0.1524 - accuracy: 0.9651\n",
      "Epoch 15/20\n",
      "20/20 [==============================] - 10s 485ms/step - loss: 0.1640 - accuracy: 0.9619\n",
      "Epoch 16/20\n",
      "20/20 [==============================] - 10s 498ms/step - loss: 0.1095 - accuracy: 0.9794\n",
      "Epoch 17/20\n",
      "20/20 [==============================] - 11s 561ms/step - loss: 0.0655 - accuracy: 0.9905\n",
      "Epoch 18/20\n",
      "20/20 [==============================] - 10s 480ms/step - loss: 0.0331 - accuracy: 1.0000\n",
      "Epoch 19/20\n",
      "20/20 [==============================] - 10s 493ms/step - loss: 0.0199 - accuracy: 1.0000\n",
      "Epoch 20/20\n",
      "20/20 [==============================] - 10s 478ms/step - loss: 0.0144 - accuracy: 1.0000\n"
     ]
    },
    {
     "data": {
      "text/plain": [
       "<keras.callbacks.History at 0x7f16dc55baf0>"
      ]
     },
     "execution_count": 5,
     "metadata": {},
     "output_type": "execute_result"
    }
   ],
   "source": [
    "model.fit(X_train_scaled,y_train,epochs=20)"
   ]
  },
  {
   "cell_type": "code",
   "execution_count": 6,
   "metadata": {},
   "outputs": [
    {
     "name": "stdout",
     "output_type": "stream",
     "text": [
      "7/7 [==============================] - 2s 127ms/step - loss: 2.6102 - accuracy: 0.5143\n"
     ]
    },
    {
     "data": {
      "text/plain": [
       "[2.6101861000061035, 0.5142857432365417]"
      ]
     },
     "execution_count": 6,
     "metadata": {},
     "output_type": "execute_result"
    }
   ],
   "source": [
    "model.evaluate(X_test_scaled,y_test)"
   ]
  },
  {
   "cell_type": "code",
   "execution_count": 11,
   "metadata": {},
   "outputs": [
    {
     "name": "stdout",
     "output_type": "stream",
     "text": [
      "7/7 [==============================] - 1s 118ms/step - loss: 2.6102 - accuracy: 0.5143\n"
     ]
    },
    {
     "data": {
      "text/plain": [
       "[2.6101861000061035, 0.5142857432365417]"
      ]
     },
     "execution_count": 11,
     "metadata": {},
     "output_type": "execute_result"
    }
   ],
   "source": [
    "model.evaluate(X_test_scaled,y_test)"
   ]
  },
  {
   "cell_type": "code",
   "execution_count": 8,
   "metadata": {},
   "outputs": [],
   "source": [
    "model2 = Sequential([\n",
    "    layers.Conv2D(filters=16,kernel_size=(3,3),input_shape=(100,100,3),activation='relu'),\n",
    "    layers.MaxPooling2D((2,2),padding='same'),\n",
    "    layers.Conv2D(filters=32,kernel_size=(3,3),input_shape=(100,100,3),activation='relu'),\n",
    "    layers.MaxPooling2D((2,2),padding='same'),\n",
    "    layers.Conv2D(filters=64,kernel_size=(3,3),input_shape=(100,100,3),activation='relu'),\n",
    "    layers.MaxPooling2D((2,2),padding='same'),\n",
    "    layers.Conv2D(filters=128,kernel_size=(3,3),activation='relu'),\n",
    "    layers.MaxPooling2D((2,2),padding='same'),\n",
    "    layers.Flatten(),\n",
    "    layers.Dense(64,activation='relu'),\n",
    "    layers.Dense(32,activation='relu'),\n",
    "    layers.Dense(num_classes,activation='softmax')\n",
    "])\n",
    "model2.compile(\n",
    "    optimizer='adam',\n",
    "    loss='sparse_categorical_crossentropy',\n",
    "    metrics=['accuracy']\n",
    ")"
   ]
  },
  {
   "cell_type": "code",
   "execution_count": 9,
   "metadata": {},
   "outputs": [
    {
     "name": "stderr",
     "output_type": "stream",
     "text": [
      "2023-04-29 13:40:38.188758: W tensorflow/core/framework/cpu_allocator_impl.cc:82] Allocation of 151200000 exceeds 10% of free system memory.\n"
     ]
    },
    {
     "name": "stdout",
     "output_type": "stream",
     "text": [
      "Epoch 1/20\n",
      "40/40 [==============================] - 16s 306ms/step - loss: 2.2799 - accuracy: 0.1349\n",
      "Epoch 2/20\n",
      "40/40 [==============================] - 12s 296ms/step - loss: 2.1120 - accuracy: 0.2151\n",
      "Epoch 3/20\n",
      "40/40 [==============================] - 12s 294ms/step - loss: 1.8960 - accuracy: 0.3190\n",
      "Epoch 4/20\n",
      "40/40 [==============================] - 13s 312ms/step - loss: 1.7047 - accuracy: 0.4056\n",
      "Epoch 5/20\n",
      "40/40 [==============================] - 11s 282ms/step - loss: 1.4927 - accuracy: 0.4698\n",
      "Epoch 6/20\n",
      "40/40 [==============================] - 12s 290ms/step - loss: 1.2815 - accuracy: 0.5532\n",
      "Epoch 7/20\n",
      "40/40 [==============================] - 14s 354ms/step - loss: 1.0560 - accuracy: 0.6349\n",
      "Epoch 8/20\n",
      "40/40 [==============================] - 13s 329ms/step - loss: 0.9618 - accuracy: 0.6556\n",
      "Epoch 9/20\n",
      "40/40 [==============================] - 15s 364ms/step - loss: 0.7669 - accuracy: 0.7230\n",
      "Epoch 10/20\n",
      "40/40 [==============================] - 14s 342ms/step - loss: 0.7246 - accuracy: 0.7397\n",
      "Epoch 11/20\n",
      "40/40 [==============================] - 13s 332ms/step - loss: 0.5345 - accuracy: 0.8127\n",
      "Epoch 12/20\n",
      "40/40 [==============================] - 15s 363ms/step - loss: 0.4976 - accuracy: 0.8413\n",
      "Epoch 13/20\n",
      "40/40 [==============================] - 15s 362ms/step - loss: 0.4327 - accuracy: 0.8516\n",
      "Epoch 14/20\n",
      "40/40 [==============================] - 14s 352ms/step - loss: 0.2599 - accuracy: 0.9167\n",
      "Epoch 15/20\n",
      "40/40 [==============================] - 14s 348ms/step - loss: 0.2871 - accuracy: 0.9040\n",
      "Epoch 16/20\n",
      "40/40 [==============================] - 13s 325ms/step - loss: 0.2066 - accuracy: 0.9365\n",
      "Epoch 17/20\n",
      "40/40 [==============================] - 14s 353ms/step - loss: 0.1723 - accuracy: 0.9468\n",
      "Epoch 18/20\n",
      "40/40 [==============================] - 19s 466ms/step - loss: 0.1172 - accuracy: 0.9651\n",
      "Epoch 19/20\n",
      "40/40 [==============================] - 20s 492ms/step - loss: 0.1595 - accuracy: 0.9476\n",
      "Epoch 20/20\n",
      "40/40 [==============================] - 19s 467ms/step - loss: 0.2253 - accuracy: 0.9294\n"
     ]
    },
    {
     "data": {
      "text/plain": [
       "<keras.callbacks.History at 0x7f19c44c7c40>"
      ]
     },
     "execution_count": 9,
     "metadata": {},
     "output_type": "execute_result"
    }
   ],
   "source": [
    "model2.fit(X_train_scaled,y_train,epochs=20)"
   ]
  },
  {
   "cell_type": "code",
   "execution_count": 9,
   "metadata": {},
   "outputs": [
    {
     "name": "stdout",
     "output_type": "stream",
     "text": [
      "7/7 [==============================] - 1s 80ms/step - loss: 1.4567 - accuracy: 0.6524\n"
     ]
    },
    {
     "data": {
      "text/plain": [
       "[1.456673264503479, 0.6523809432983398]"
      ]
     },
     "execution_count": 9,
     "metadata": {},
     "output_type": "execute_result"
    }
   ],
   "source": [
    "model2.evaluate(X_test_scaled,y_test)"
   ]
  },
  {
   "cell_type": "code",
   "execution_count": null,
   "metadata": {},
   "outputs": [],
   "source": [
    "with open('models/model-kk-ta85_71.pickle','wb') as f:\n",
    "    pickle.dump(model2,f)"
   ]
  },
  {
   "cell_type": "code",
   "execution_count": 17,
   "metadata": {},
   "outputs": [
    {
     "name": "stdout",
     "output_type": "stream",
     "text": [
      "Epoch 1/25\n",
      "79/79 [==============================] - 26s 275ms/step - loss: 2.2978 - accuracy: 0.1099\n",
      "Epoch 2/25\n",
      "79/79 [==============================] - 22s 279ms/step - loss: 2.1799 - accuracy: 0.1528\n",
      "Epoch 3/25\n",
      "79/79 [==============================] - 21s 272ms/step - loss: 2.0519 - accuracy: 0.1956\n",
      "Epoch 4/25\n",
      "79/79 [==============================] - 22s 277ms/step - loss: 1.9029 - accuracy: 0.2679\n",
      "Epoch 5/25\n",
      "79/79 [==============================] - 22s 275ms/step - loss: 1.7122 - accuracy: 0.3484\n",
      "Epoch 6/25\n",
      "79/79 [==============================] - 21s 272ms/step - loss: 1.5715 - accuracy: 0.4107\n",
      "Epoch 7/25\n",
      "79/79 [==============================] - 22s 275ms/step - loss: 1.3478 - accuracy: 0.5091\n",
      "Epoch 8/25\n",
      "79/79 [==============================] - 22s 273ms/step - loss: 1.1799 - accuracy: 0.5694\n",
      "Epoch 9/25\n",
      "79/79 [==============================] - 22s 275ms/step - loss: 0.9451 - accuracy: 0.6567\n",
      "Epoch 10/25\n",
      "79/79 [==============================] - 21s 271ms/step - loss: 0.8126 - accuracy: 0.7135\n",
      "Epoch 11/25\n",
      "79/79 [==============================] - 22s 275ms/step - loss: 0.6471 - accuracy: 0.7607\n",
      "Epoch 12/25\n",
      "79/79 [==============================] - 22s 272ms/step - loss: 0.5029 - accuracy: 0.8179\n",
      "Epoch 13/25\n",
      "79/79 [==============================] - 22s 273ms/step - loss: 0.3833 - accuracy: 0.8659\n",
      "Epoch 14/25\n",
      "79/79 [==============================] - 22s 275ms/step - loss: 0.2872 - accuracy: 0.8992\n",
      "Epoch 15/25\n",
      "79/79 [==============================] - 21s 262ms/step - loss: 0.2818 - accuracy: 0.9052\n",
      "Epoch 16/25\n",
      "79/79 [==============================] - 21s 266ms/step - loss: 0.2465 - accuracy: 0.9171\n",
      "Epoch 17/25\n",
      "79/79 [==============================] - 21s 267ms/step - loss: 0.1879 - accuracy: 0.9373\n",
      "Epoch 18/25\n",
      "79/79 [==============================] - 22s 274ms/step - loss: 0.1264 - accuracy: 0.9563\n",
      "Epoch 19/25\n",
      "79/79 [==============================] - 21s 261ms/step - loss: 0.1632 - accuracy: 0.9524\n",
      "Epoch 20/25\n",
      "79/79 [==============================] - 21s 265ms/step - loss: 0.0941 - accuracy: 0.9726\n",
      "Epoch 21/25\n",
      "79/79 [==============================] - 21s 264ms/step - loss: 0.0910 - accuracy: 0.9706\n",
      "Epoch 22/25\n",
      "79/79 [==============================] - 22s 275ms/step - loss: 0.0326 - accuracy: 0.9925\n",
      "Epoch 23/25\n",
      "79/79 [==============================] - 22s 279ms/step - loss: 0.0191 - accuracy: 0.9940\n",
      "Epoch 24/25\n",
      "79/79 [==============================] - 24s 305ms/step - loss: 0.1858 - accuracy: 0.9389\n",
      "Epoch 25/25\n",
      "79/79 [==============================] - 23s 293ms/step - loss: 0.0600 - accuracy: 0.9829\n"
     ]
    },
    {
     "data": {
      "text/plain": [
       "<keras.callbacks.History at 0x7fe8a0493f70>"
      ]
     },
     "execution_count": 17,
     "metadata": {},
     "output_type": "execute_result"
    }
   ],
   "source": [
    "num_classes = 10\n",
    "model3 = Sequential([\n",
    "    layers.Conv2D(filters=16,kernel_size=(3,3),input_shape=(100,100,3),activation='relu'),\n",
    "    layers.MaxPooling2D((2,2),padding='same'),\n",
    "    layers.Conv2D(filters=32,kernel_size=(3,3),activation='relu'),\n",
    "    layers.MaxPooling2D((2,2),padding='same'),\n",
    "    layers.Conv2D(filters=64,kernel_size=(3,3),activation='relu'),\n",
    "    layers.MaxPooling2D((2,2),padding='same'),\n",
    "    layers.Conv2D(filters=128,kernel_size=(3,3),activation='relu'),\n",
    "    layers.MaxPooling2D((2,2),padding='same'),\n",
    "    layers.Conv2D(filters=256,kernel_size=(3,3),activation='relu'),\n",
    "    layers.MaxPooling2D((2,2),padding='same'),\n",
    "    layers.Flatten(),\n",
    "    layers.Dense(128,activation='relu'),\n",
    "    layers.Dense(64,activation='relu'),\n",
    "    layers.Dense(32,activation='relu'),\n",
    "    layers.Dense(num_classes,activation='softmax')\n",
    "])\n",
    "model3.compile(\n",
    "    optimizer='adam',\n",
    "    loss='sparse_categorical_crossentropy',\n",
    "    metrics=['accuracy']\n",
    ")\n",
    "model3.fit(X_train_scaled,y_train,epochs=25)"
   ]
  },
  {
   "cell_type": "code",
   "execution_count": 18,
   "metadata": {},
   "outputs": [
    {
     "name": "stdout",
     "output_type": "stream",
     "text": [
      "27/27 [==============================] - 4s 94ms/step - loss: 0.3325 - accuracy: 0.9048\n"
     ]
    },
    {
     "data": {
      "text/plain": [
       "[0.33245155215263367, 0.9047619104385376]"
      ]
     },
     "execution_count": 18,
     "metadata": {},
     "output_type": "execute_result"
    }
   ],
   "source": [
    "model3.evaluate(X_test_scaled,y_test)"
   ]
  },
  {
   "cell_type": "code",
   "execution_count": 22,
   "metadata": {},
   "outputs": [
    {
     "name": "stderr",
     "output_type": "stream",
     "text": [
      "Exception ignored in: <function WeakKeyDictionary.__init__.<locals>.remove at 0x7fe92bf08c10>\n",
      "Traceback (most recent call last):\n",
      "  File \"/usr/lib/python3.10/weakref.py\", line 370, in remove\n",
      "    def remove(k, selfref=ref(self)):\n",
      "KeyboardInterrupt: \n",
      "WARNING:absl:Found untraced functions such as _jit_compiled_convolution_op, _jit_compiled_convolution_op, _jit_compiled_convolution_op, _jit_compiled_convolution_op, _jit_compiled_convolution_op while saving (showing 5 of 5). These functions will not be directly callable after loading.\n"
     ]
    },
    {
     "name": "stdout",
     "output_type": "stream",
     "text": [
      "INFO:tensorflow:Assets written to: ram://2e76e60f-5357-4a08-825d-53e49a3e98a3/assets\n"
     ]
    },
    {
     "name": "stderr",
     "output_type": "stream",
     "text": [
      "INFO:tensorflow:Assets written to: ram://2e76e60f-5357-4a08-825d-53e49a3e98a3/assets\n"
     ]
    }
   ],
   "source": [
    "with open('models/model-kk-10p-ta90_48.pickle','wb') as f:\n",
    "    pickle.dump(model3,f)"
   ]
  }
 ],
 "metadata": {
  "kernelspec": {
   "display_name": "Python 3.10.6 64-bit",
   "language": "python",
   "name": "python3"
  },
  "language_info": {
   "codemirror_mode": {
    "name": "ipython",
    "version": 3
   },
   "file_extension": ".py",
   "mimetype": "text/x-python",
   "name": "python",
   "nbconvert_exporter": "python",
   "pygments_lexer": "ipython3",
   "version": "3.10.6"
  },
  "orig_nbformat": 4,
  "vscode": {
   "interpreter": {
    "hash": "916dbcbb3f70747c44a77c7bcd40155683ae19c65e1c03b4aa3499c5328201f1"
   }
  }
 },
 "nbformat": 4,
 "nbformat_minor": 2
}
